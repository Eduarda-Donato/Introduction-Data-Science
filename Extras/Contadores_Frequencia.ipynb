{
 "cells": [
  {
   "attachments": {},
   "cell_type": "markdown",
   "metadata": {},
   "source": [
    "# Contadores"
   ]
  },
  {
   "attachments": {},
   "cell_type": "markdown",
   "metadata": {},
   "source": [
    "### recursos que irão facilitar sua vida como cientista de dados"
   ]
  },
  {
   "cell_type": "code",
   "execution_count": 1,
   "metadata": {},
   "outputs": [],
   "source": [
    "import pandas as pd"
   ]
  },
  {
   "cell_type": "code",
   "execution_count": 7,
   "metadata": {},
   "outputs": [
    {
     "data": {
      "text/plain": [
       "0     a\n",
       "1     p\n",
       "2     r\n",
       "3     e\n",
       "4     e\n",
       "5     p\n",
       "6     a\n",
       "7     a\n",
       "8     e\n",
       "9     r\n",
       "10    p\n",
       "11    r\n",
       "12    e\n",
       "13    p\n",
       "14    p\n",
       "15    r\n",
       "16    a\n",
       "17    e\n",
       "18    a\n",
       "19    p\n",
       "20    e\n",
       "21    r\n",
       "dtype: object"
      ]
     },
     "execution_count": 7,
     "metadata": {},
     "output_type": "execute_result"
    }
   ],
   "source": [
    "series = pd.Series(list('apreepaaerpreppraeaper'))\n",
    "series"
   ]
  },
  {
   "cell_type": "code",
   "execution_count": 5,
   "metadata": {},
   "outputs": [
    {
     "data": {
      "text/plain": [
       "array(['a', 'p', 'r', 'e'], dtype=object)"
      ]
     },
     "execution_count": 5,
     "metadata": {},
     "output_type": "execute_result"
    }
   ],
   "source": [
    "#cria um array com os itens da series sem repetir tipo um drop_duplicates\n",
    "series.unique()"
   ]
  },
  {
   "cell_type": "code",
   "execution_count": 6,
   "metadata": {},
   "outputs": [
    {
     "data": {
      "text/plain": [
       "p    6\n",
       "e    6\n",
       "a    5\n",
       "r    5\n",
       "dtype: int64"
      ]
     },
     "execution_count": 6,
     "metadata": {},
     "output_type": "execute_result"
    }
   ],
   "source": [
    "#informa a quantidade de cada item da series\n",
    "series.value_counts()"
   ]
  },
  {
   "cell_type": "code",
   "execution_count": 9,
   "metadata": {},
   "outputs": [
    {
     "data": {
      "text/html": [
       "<div>\n",
       "<style scoped>\n",
       "    .dataframe tbody tr th:only-of-type {\n",
       "        vertical-align: middle;\n",
       "    }\n",
       "\n",
       "    .dataframe tbody tr th {\n",
       "        vertical-align: top;\n",
       "    }\n",
       "\n",
       "    .dataframe thead th {\n",
       "        text-align: right;\n",
       "    }\n",
       "</style>\n",
       "<table border=\"1\" class=\"dataframe\">\n",
       "  <thead>\n",
       "    <tr style=\"text-align: right;\">\n",
       "      <th></th>\n",
       "      <th>Tipo</th>\n",
       "      <th>Bairro</th>\n",
       "      <th>Quartos</th>\n",
       "      <th>Vagas</th>\n",
       "      <th>Suites</th>\n",
       "      <th>Area</th>\n",
       "      <th>Valor</th>\n",
       "      <th>Condominio</th>\n",
       "      <th>IPTU</th>\n",
       "      <th>Valor m2</th>\n",
       "      <th>Tipo Agregado</th>\n",
       "    </tr>\n",
       "  </thead>\n",
       "  <tbody>\n",
       "    <tr>\n",
       "      <th>0</th>\n",
       "      <td>Quitinete</td>\n",
       "      <td>Copacabana</td>\n",
       "      <td>1</td>\n",
       "      <td>0</td>\n",
       "      <td>0</td>\n",
       "      <td>40</td>\n",
       "      <td>1700.0</td>\n",
       "      <td>500.0</td>\n",
       "      <td>60.0</td>\n",
       "      <td>42.50</td>\n",
       "      <td>Casa</td>\n",
       "    </tr>\n",
       "    <tr>\n",
       "      <th>1</th>\n",
       "      <td>Casa</td>\n",
       "      <td>Jardim Botânico</td>\n",
       "      <td>2</td>\n",
       "      <td>0</td>\n",
       "      <td>1</td>\n",
       "      <td>100</td>\n",
       "      <td>7000.0</td>\n",
       "      <td>0.0</td>\n",
       "      <td>0.0</td>\n",
       "      <td>70.00</td>\n",
       "      <td>Casa</td>\n",
       "    </tr>\n",
       "    <tr>\n",
       "      <th>2</th>\n",
       "      <td>Apartamento</td>\n",
       "      <td>Centro</td>\n",
       "      <td>1</td>\n",
       "      <td>0</td>\n",
       "      <td>0</td>\n",
       "      <td>15</td>\n",
       "      <td>800.0</td>\n",
       "      <td>390.0</td>\n",
       "      <td>20.0</td>\n",
       "      <td>53.33</td>\n",
       "      <td>Apartamento</td>\n",
       "    </tr>\n",
       "    <tr>\n",
       "      <th>3</th>\n",
       "      <td>Apartamento</td>\n",
       "      <td>Higienópolis</td>\n",
       "      <td>1</td>\n",
       "      <td>0</td>\n",
       "      <td>0</td>\n",
       "      <td>48</td>\n",
       "      <td>800.0</td>\n",
       "      <td>230.0</td>\n",
       "      <td>0.0</td>\n",
       "      <td>16.67</td>\n",
       "      <td>Apartamento</td>\n",
       "    </tr>\n",
       "    <tr>\n",
       "      <th>4</th>\n",
       "      <td>Apartamento</td>\n",
       "      <td>Cachambi</td>\n",
       "      <td>2</td>\n",
       "      <td>0</td>\n",
       "      <td>0</td>\n",
       "      <td>50</td>\n",
       "      <td>1300.0</td>\n",
       "      <td>301.0</td>\n",
       "      <td>17.0</td>\n",
       "      <td>26.00</td>\n",
       "      <td>Apartamento</td>\n",
       "    </tr>\n",
       "    <tr>\n",
       "      <th>...</th>\n",
       "      <td>...</td>\n",
       "      <td>...</td>\n",
       "      <td>...</td>\n",
       "      <td>...</td>\n",
       "      <td>...</td>\n",
       "      <td>...</td>\n",
       "      <td>...</td>\n",
       "      <td>...</td>\n",
       "      <td>...</td>\n",
       "      <td>...</td>\n",
       "      <td>...</td>\n",
       "    </tr>\n",
       "    <tr>\n",
       "      <th>22348</th>\n",
       "      <td>Apartamento</td>\n",
       "      <td>Méier</td>\n",
       "      <td>2</td>\n",
       "      <td>0</td>\n",
       "      <td>0</td>\n",
       "      <td>70</td>\n",
       "      <td>900.0</td>\n",
       "      <td>490.0</td>\n",
       "      <td>48.0</td>\n",
       "      <td>12.86</td>\n",
       "      <td>Apartamento</td>\n",
       "    </tr>\n",
       "    <tr>\n",
       "      <th>22349</th>\n",
       "      <td>Quitinete</td>\n",
       "      <td>Centro</td>\n",
       "      <td>0</td>\n",
       "      <td>0</td>\n",
       "      <td>0</td>\n",
       "      <td>27</td>\n",
       "      <td>800.0</td>\n",
       "      <td>350.0</td>\n",
       "      <td>25.0</td>\n",
       "      <td>29.63</td>\n",
       "      <td>Casa</td>\n",
       "    </tr>\n",
       "    <tr>\n",
       "      <th>22350</th>\n",
       "      <td>Apartamento</td>\n",
       "      <td>Jacarepaguá</td>\n",
       "      <td>3</td>\n",
       "      <td>1</td>\n",
       "      <td>2</td>\n",
       "      <td>78</td>\n",
       "      <td>1800.0</td>\n",
       "      <td>800.0</td>\n",
       "      <td>40.0</td>\n",
       "      <td>23.08</td>\n",
       "      <td>Apartamento</td>\n",
       "    </tr>\n",
       "    <tr>\n",
       "      <th>22351</th>\n",
       "      <td>Apartamento</td>\n",
       "      <td>São Francisco Xavier</td>\n",
       "      <td>2</td>\n",
       "      <td>1</td>\n",
       "      <td>0</td>\n",
       "      <td>48</td>\n",
       "      <td>1400.0</td>\n",
       "      <td>509.0</td>\n",
       "      <td>37.0</td>\n",
       "      <td>29.17</td>\n",
       "      <td>Apartamento</td>\n",
       "    </tr>\n",
       "    <tr>\n",
       "      <th>22352</th>\n",
       "      <td>Apartamento</td>\n",
       "      <td>Leblon</td>\n",
       "      <td>2</td>\n",
       "      <td>0</td>\n",
       "      <td>0</td>\n",
       "      <td>70</td>\n",
       "      <td>3000.0</td>\n",
       "      <td>760.0</td>\n",
       "      <td>0.0</td>\n",
       "      <td>42.86</td>\n",
       "      <td>Apartamento</td>\n",
       "    </tr>\n",
       "  </tbody>\n",
       "</table>\n",
       "<p>22353 rows × 11 columns</p>\n",
       "</div>"
      ],
      "text/plain": [
       "              Tipo                Bairro  Quartos  Vagas  Suites  Area  \\\n",
       "0        Quitinete            Copacabana        1      0       0    40   \n",
       "1             Casa       Jardim Botânico        2      0       1   100   \n",
       "2      Apartamento                Centro        1      0       0    15   \n",
       "3      Apartamento          Higienópolis        1      0       0    48   \n",
       "4      Apartamento              Cachambi        2      0       0    50   \n",
       "...            ...                   ...      ...    ...     ...   ...   \n",
       "22348  Apartamento                 Méier        2      0       0    70   \n",
       "22349    Quitinete                Centro        0      0       0    27   \n",
       "22350  Apartamento           Jacarepaguá        3      1       2    78   \n",
       "22351  Apartamento  São Francisco Xavier        2      1       0    48   \n",
       "22352  Apartamento                Leblon        2      0       0    70   \n",
       "\n",
       "        Valor  Condominio  IPTU  Valor m2 Tipo Agregado  \n",
       "0      1700.0       500.0  60.0     42.50          Casa  \n",
       "1      7000.0         0.0   0.0     70.00          Casa  \n",
       "2       800.0       390.0  20.0     53.33   Apartamento  \n",
       "3       800.0       230.0   0.0     16.67   Apartamento  \n",
       "4      1300.0       301.0  17.0     26.00   Apartamento  \n",
       "...       ...         ...   ...       ...           ...  \n",
       "22348   900.0       490.0  48.0     12.86   Apartamento  \n",
       "22349   800.0       350.0  25.0     29.63          Casa  \n",
       "22350  1800.0       800.0  40.0     23.08   Apartamento  \n",
       "22351  1400.0       509.0  37.0     29.17   Apartamento  \n",
       "22352  3000.0       760.0   0.0     42.86   Apartamento  \n",
       "\n",
       "[22353 rows x 11 columns]"
      ]
     },
     "execution_count": 9,
     "metadata": {},
     "output_type": "execute_result"
    }
   ],
   "source": [
    "dataset = pd.read_csv('dados/alugueis_residencial_tratado_melhorado.csv', sep=';')\n",
    "dataset"
   ]
  },
  {
   "cell_type": "code",
   "execution_count": 10,
   "metadata": {},
   "outputs": [
    {
     "data": {
      "text/plain": [
       "Apartamento           18780\n",
       "Casa de Condomínio      996\n",
       "Casa                    965\n",
       "Quitinete               836\n",
       "Flat                    476\n",
       "Casa de Vila            249\n",
       "Loft                     51\n",
       "Name: Tipo, dtype: int64"
      ]
     },
     "execution_count": 10,
     "metadata": {},
     "output_type": "execute_result"
    }
   ],
   "source": [
    "dataset['Tipo'].value_counts()"
   ]
  },
  {
   "cell_type": "code",
   "execution_count": 11,
   "metadata": {},
   "outputs": [
    {
     "data": {
      "text/plain": [
       "array(['Quitinete', 'Casa', 'Apartamento', 'Casa de Condomínio', 'Flat',\n",
       "       'Casa de Vila', 'Loft'], dtype=object)"
      ]
     },
     "execution_count": 11,
     "metadata": {},
     "output_type": "execute_result"
    }
   ],
   "source": [
    "dataset['Tipo'].unique()"
   ]
  }
 ],
 "metadata": {
  "kernelspec": {
   "display_name": "ambiente",
   "language": "python",
   "name": "python3"
  },
  "language_info": {
   "codemirror_mode": {
    "name": "ipython",
    "version": 3
   },
   "file_extension": ".py",
   "mimetype": "text/x-python",
   "name": "python",
   "nbconvert_exporter": "python",
   "pygments_lexer": "ipython3",
   "version": "3.9.15 (main, Nov 24 2022, 14:39:17) [MSC v.1916 64 bit (AMD64)]"
  },
  "orig_nbformat": 4,
  "vscode": {
   "interpreter": {
    "hash": "078be856d3baac0a1b5fca3d500da5e3f0197fb170b2c6c6bc3b09ecf224b0d0"
   }
  }
 },
 "nbformat": 4,
 "nbformat_minor": 2
}
