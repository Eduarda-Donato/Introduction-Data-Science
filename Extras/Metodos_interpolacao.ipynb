{
 "cells": [
  {
   "attachments": {},
   "cell_type": "markdown",
   "metadata": {},
   "source": [
    "# Métodos de Interpolação"
   ]
  },
  {
   "cell_type": "code",
   "execution_count": 1,
   "metadata": {},
   "outputs": [],
   "source": [
    "import pandas as pd"
   ]
  },
  {
   "cell_type": "code",
   "execution_count": 5,
   "metadata": {},
   "outputs": [],
   "source": [
    "data = [0.5, None, None, 0.52, 0.54, None, None, 0.59, 0.6, None, 0.7]"
   ]
  },
  {
   "cell_type": "code",
   "execution_count": 6,
   "metadata": {},
   "outputs": [
    {
     "data": {
      "text/plain": [
       "0     0.50\n",
       "1      NaN\n",
       "2      NaN\n",
       "3     0.52\n",
       "4     0.54\n",
       "5      NaN\n",
       "6      NaN\n",
       "7     0.59\n",
       "8     0.60\n",
       "9      NaN\n",
       "10    0.70\n",
       "dtype: float64"
      ]
     },
     "execution_count": 6,
     "metadata": {},
     "output_type": "execute_result"
    }
   ],
   "source": [
    "series = pd.Series(data)\n",
    "series"
   ]
  },
  {
   "cell_type": "code",
   "execution_count": 7,
   "metadata": {},
   "outputs": [
    {
     "data": {
      "text/plain": [
       "0     0.50\n",
       "1     0.00\n",
       "2     0.00\n",
       "3     0.52\n",
       "4     0.54\n",
       "5     0.00\n",
       "6     0.00\n",
       "7     0.59\n",
       "8     0.60\n",
       "9     0.00\n",
       "10    0.70\n",
       "dtype: float64"
      ]
     },
     "execution_count": 7,
     "metadata": {},
     "output_type": "execute_result"
    }
   ],
   "source": [
    "#Interpolação\n",
    "series.fillna(0)"
   ]
  },
  {
   "cell_type": "code",
   "execution_count": 9,
   "metadata": {},
   "outputs": [
    {
     "data": {
      "text/plain": [
       "0     0.50\n",
       "1     0.50\n",
       "2     0.50\n",
       "3     0.52\n",
       "4     0.54\n",
       "5     0.54\n",
       "6     0.54\n",
       "7     0.59\n",
       "8     0.60\n",
       "9     0.60\n",
       "10    0.70\n",
       "dtype: float64"
      ]
     },
     "execution_count": 9,
     "metadata": {},
     "output_type": "execute_result"
    }
   ],
   "source": [
    "# Outros métodos de interpolação (mais utilizado)\n",
    "#ffill pega o anterior do NaN e atribui o valor dele no NaN\n",
    "#assinaturas nulas preenchidas com o os valores do elemento anterior\n",
    "series.fillna(method = 'ffill')"
   ]
  },
  {
   "cell_type": "code",
   "execution_count": 11,
   "metadata": {},
   "outputs": [
    {
     "data": {
      "text/plain": [
       "0     0.50\n",
       "1     0.52\n",
       "2     0.52\n",
       "3     0.52\n",
       "4     0.54\n",
       "5     0.59\n",
       "6     0.59\n",
       "7     0.59\n",
       "8     0.60\n",
       "9     0.70\n",
       "10    0.70\n",
       "dtype: float64"
      ]
     },
     "execution_count": 11,
     "metadata": {},
     "output_type": "execute_result"
    }
   ],
   "source": [
    "#bfill faz a mesma coisa do ffill so que de baixo pra cima\n",
    "series.fillna(method= 'bfill')"
   ]
  },
  {
   "cell_type": "code",
   "execution_count": 12,
   "metadata": {},
   "outputs": [
    {
     "data": {
      "text/plain": [
       "0     0.500\n",
       "1     0.575\n",
       "2     0.575\n",
       "3     0.520\n",
       "4     0.540\n",
       "5     0.575\n",
       "6     0.575\n",
       "7     0.590\n",
       "8     0.600\n",
       "9     0.575\n",
       "10    0.700\n",
       "dtype: float64"
      ]
     },
     "execution_count": 12,
     "metadata": {},
     "output_type": "execute_result"
    }
   ],
   "source": [
    "#coletaremos a média de todos os valores não-nulos e a usaremos como preenchimento\n",
    "series.fillna(series.mean())"
   ]
  },
  {
   "cell_type": "code",
   "execution_count": 16,
   "metadata": {},
   "outputs": [
    {
     "data": {
      "text/plain": [
       "0     0.50\n",
       "1     0.50\n",
       "2      NaN\n",
       "3     0.52\n",
       "4     0.54\n",
       "5     0.54\n",
       "6      NaN\n",
       "7     0.59\n",
       "8     0.60\n",
       "9     0.60\n",
       "10    0.70\n",
       "dtype: float64"
      ]
     },
     "execution_count": 16,
     "metadata": {},
     "output_type": "execute_result"
    }
   ],
   "source": [
    "#Quando tem muitos valoes seguidos com NaN\n",
    "#A repetição pode gerar uma reta que não é desejada\n",
    "#Adicionar um limite\n",
    "s1 = series.fillna(method= 'ffill', limit= 1) # limita a repetição em 1\n",
    "s1"
   ]
  },
  {
   "cell_type": "code",
   "execution_count": 18,
   "metadata": {},
   "outputs": [
    {
     "data": {
      "text/plain": [
       "0     0.50\n",
       "1     0.50\n",
       "2     0.52\n",
       "3     0.52\n",
       "4     0.54\n",
       "5     0.54\n",
       "6     0.59\n",
       "7     0.59\n",
       "8     0.60\n",
       "9     0.60\n",
       "10    0.70\n",
       "dtype: float64"
      ]
     },
     "execution_count": 18,
     "metadata": {},
     "output_type": "execute_result"
    }
   ],
   "source": [
    "#Pode variar entre o ffill e bfill\n",
    "s2 = s1.fillna(method= 'bfill', limit= 1)\n",
    "s2"
   ]
  },
  {
   "cell_type": "code",
   "execution_count": null,
   "metadata": {},
   "outputs": [],
   "source": [
    "#atletas = pd.DataFrame([['Marcos', 9.62], ['Pedro', None], ['João', 9.69], \n",
    "#                        ['Beto', 9.72], ['Sandro', None], ['Denis', 9.69], \n",
    "#                        ['Ary', None], ['Carlos', 9.74]], \n",
    "#                        columns = ['Corredor', 'Melhor Tempo'])\n",
    "#atletas"
   ]
  },
  {
   "cell_type": "code",
   "execution_count": null,
   "metadata": {},
   "outputs": [],
   "source": [
    "# atletas.fillna(atletas[\"Melhor Tempo\"].mean(), inplace = True)"
   ]
  }
 ],
 "metadata": {
  "kernelspec": {
   "display_name": "ambiente",
   "language": "python",
   "name": "python3"
  },
  "language_info": {
   "codemirror_mode": {
    "name": "ipython",
    "version": 3
   },
   "file_extension": ".py",
   "mimetype": "text/x-python",
   "name": "python",
   "nbconvert_exporter": "python",
   "pygments_lexer": "ipython3",
   "version": "3.9.15 (main, Nov 24 2022, 14:39:17) [MSC v.1916 64 bit (AMD64)]"
  },
  "orig_nbformat": 4,
  "vscode": {
   "interpreter": {
    "hash": "078be856d3baac0a1b5fca3d500da5e3f0197fb170b2c6c6bc3b09ecf224b0d0"
   }
  }
 },
 "nbformat": 4,
 "nbformat_minor": 2
}
